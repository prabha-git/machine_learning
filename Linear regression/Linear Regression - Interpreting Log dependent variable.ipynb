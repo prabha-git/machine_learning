{
 "cells": [
  {
   "cell_type": "markdown",
   "id": "0e647fa9-d79b-44c4-a234-ba9c329655a2",
   "metadata": {},
   "source": [
    "### How to interpret Linear Regression when dependent variable is log transformed"
   ]
  },
  {
   "cell_type": "code",
   "execution_count": 6,
   "id": "3f5f42f1-84bd-4134-9da2-38c05d450706",
   "metadata": {},
   "outputs": [],
   "source": [
    "import pandas as pd\n",
    "import numpy as np\n",
    "\n",
    "import matplotlib.pyplot as plt\n",
    "import seaborn as sns"
   ]
  },
  {
   "cell_type": "code",
   "execution_count": 7,
   "id": "21f058dd-dfee-4415-817a-83c3a9833070",
   "metadata": {},
   "outputs": [],
   "source": [
    "np.random.seed(1)"
   ]
  },
  {
   "cell_type": "code",
   "execution_count": 20,
   "id": "d9af6538-33f8-4ddd-8bb4-8916fe7bfd27",
   "metadata": {},
   "outputs": [],
   "source": [
    "# Simulating the data\n",
    "rand = np.random.RandomState(1)\n",
    "e = rand.normal(0,.5,100)\n",
    "x = np.arange(100)\n",
    "intercept = 1\n",
    "slope = 0.6\n",
    "\n",
    "y = np.exp(intercept + (slope*x) + e)"
   ]
  },
  {
   "cell_type": "code",
   "execution_count": 21,
   "id": "d94ff13a-61b0-47fe-8d72-c982c40780d7",
   "metadata": {},
   "outputs": [
    {
     "data": {
      "image/png": "[encoded data removed]",
      "text/plain": [
       "<Figure size 432x288 with 1 Axes>"
      ]
     },
     "metadata": {
      "needs_background": "light"
     },
     "output_type": "display_data"
    }
   ],
   "source": [
    "sns.histplot(y,bins=20,stat='count',kde=True)\n",
    "plt.show()"
   ]
  },
  {
   "cell_type": "code",
   "execution_count": 22,
   "id": "dd2d3d19-b6ac-4668-96f2-1937d04556f4",
   "metadata": {
    "tags": []
   },
   "outputs": [
    {
     "data": {
      "text/plain": [
       "(0.9475802603334671, array([0.60167093]))"
      ]
     },
     "execution_count": 22,
     "metadata": {},
     "output_type": "execute_result"
    }
   ],
   "source": [
    "from sklearn.linear_model import LinearRegression\n",
    "\n",
    "model = LinearRegression().fit(x.reshape(-1,1),np.log(y))\n",
    "\n",
    "model.intercept_, model.coef_"
   ]
  },
  {
   "cell_type": "code",
   "execution_count": 23,
   "id": "3e409e49-771f-408a-b3ef-83ef84c284a2",
   "metadata": {},
   "outputs": [
    {
     "data": {
      "text/plain": [
       "82.51659832786294"
      ]
     },
     "execution_count": 23,
     "metadata": {},
     "output_type": "execute_result"
    }
   ],
   "source": [
    "np.expm1(model.coef_[0]) * 100"
   ]
  },
  {
   "cell_type": "markdown",
   "id": "4ff4f643-cf5b-4abf-b021-43927ba514df",
   "metadata": {
    "tags": []
   },
   "source": [
    "For 1 unit increase in x , y increases by ~82 %"
   ]
  }
 ],
 "metadata": {
  "kernelspec": {
   "display_name": "Python 3.7.7 64-bit ('python37': conda)",
   "language": "python",
   "name": "python37764bitpython37conda4338331a234f4110b4b4da8b036d6167"
  },
  "language_info": {
   "codemirror_mode": {
    "name": "ipython",
    "version": 3
   },
   "file_extension": ".py",
   "mimetype": "text/x-python",
   "name": "python",
   "nbconvert_exporter": "python",
   "pygments_lexer": "ipython3",
   "version": "3.7.10"
  }
 },
 "nbformat": 4,
 "nbformat_minor": 5
}
